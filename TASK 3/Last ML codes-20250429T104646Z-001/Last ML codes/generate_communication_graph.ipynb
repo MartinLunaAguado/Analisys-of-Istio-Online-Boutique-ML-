{
 "cells": [
  {
   "cell_type": "code",
   "execution_count": 1,
   "id": "09aa90ad",
   "metadata": {},
   "outputs": [
    {
     "name": "stdout",
     "output_type": "stream",
     "text": [
      "✅ communication_graph_cleaned.json creado correctamente.\n"
     ]
    }
   ],
   "source": [
    "\n",
    "import pandas as pd\n",
    "import json\n",
    "import re\n",
    "\n",
    "# Función para limpiar strings para UIDs\n",
    "def clean_str(s):\n",
    "    return re.sub(r'\\W+', '_', str(s))\n",
    "\n",
    "# Cargar los datos\n",
    "df_comm = pd.read_csv(\"kiali_kpi_metrics.csv\")\n",
    "\n",
    "# Filtrar registros válidos\n",
    "df_comm['time_window'] = df_comm['time_window'].astype(str).str.strip()\n",
    "df_comm = df_comm[df_comm['time_window'] == \"15S\"].copy()\n",
    "df_comm['error_rate'] = pd.to_numeric(df_comm['error_rate'], errors='coerce').fillna(0.0)\n",
    "df_comm = df_comm[df_comm['istio_request_bytes'] != 0.0]\n",
    "df_comm = df_comm[df_comm['new_request'] >= 0.0]\n",
    "df_comm = df_comm.dropna(subset=[\"request_rate\"])\n",
    "\n",
    "# Asignar status\n",
    "def assign_status(er):\n",
    "    return 0 if er < 0.15 else 1\n",
    "df_comm['status'] = df_comm['error_rate'].apply(assign_status)\n",
    "\n",
    "# Crear nodos microservicio\n",
    "microservices = set(df_comm['source_workload']).union(set(df_comm['destination_workload']))\n",
    "nodes = []\n",
    "node_uid_map = {}\n",
    "for ms in microservices:\n",
    "    uid = f\"_:ms_{clean_str(ms)}\"\n",
    "    nodes.append({\n",
    "        \"uid\": uid,\n",
    "        \"dgraph.type\": \"Microservice\",\n",
    "        \"microservice\": {\n",
    "            \"name\": ms\n",
    "        }\n",
    "    })\n",
    "    node_uid_map[ms] = uid\n",
    "\n",
    "# Crear relaciones de comunicación\n",
    "edges = []\n",
    "for _, row in df_comm.iterrows():\n",
    "    src = node_uid_map[row[\"source_workload\"]]\n",
    "    tgt = node_uid_map[row[\"destination_workload\"]]\n",
    "    edge = {\n",
    "        \"uid\": f\"_:edge_{clean_str(row['source_workload'])}_{clean_str(row['destination_workload'])}_{clean_str(str(row['timestamp']))}\",\n",
    "        \"dgraph.type\": \"Communication\",\n",
    "        \"from\": {\"uid\": src},\n",
    "        \"to\": {\"uid\": tgt},\n",
    "        \"communication\": {\n",
    "            \"timestamp\": str(row[\"timestamp\"]),\n",
    "            \"throughput\": row[\"throughput\"],\n",
    "            \"duration_milliseconds\": row[\"duration_milliseconds\"],\n",
    "            \"request_rate\": row[\"request_rate\"],\n",
    "            \"istio_request_bytes\": row[\"istio_request_bytes\"],\n",
    "            \"average_latency\": row[\"average_latency\"],\n",
    "            \"new_request\": row[\"new_request\"],\n",
    "            \"status\": int(row[\"status\"])\n",
    "        }\n",
    "    }\n",
    "    edges.append(edge)\n",
    "\n",
    "# Guardar grafo completo\n",
    "graph_comm = nodes + edges\n",
    "with open(\"communication_graph_cleaned.json\", \"w\", encoding=\"utf-8\") as f:\n",
    "    json.dump(graph_comm, f, indent=2)\n",
    "\n",
    "print(\"✅ communication_graph_cleaned.json creado correctamente.\")\n"
   ]
  }
 ],
 "metadata": {
  "kernelspec": {
   "display_name": "Python 3",
   "language": "python",
   "name": "python3"
  },
  "language_info": {
   "codemirror_mode": {
    "name": "ipython",
    "version": 3
   },
   "file_extension": ".py",
   "mimetype": "text/x-python",
   "name": "python",
   "nbconvert_exporter": "python",
   "pygments_lexer": "ipython3",
   "version": "3.12.0"
  }
 },
 "nbformat": 4,
 "nbformat_minor": 5
}
