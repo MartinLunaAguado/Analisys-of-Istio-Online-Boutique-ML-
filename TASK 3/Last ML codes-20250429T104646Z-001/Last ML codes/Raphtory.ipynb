{
 "cells": [
  {
   "cell_type": "code",
   "execution_count": 1,
   "id": "84f20a62",
   "metadata": {},
   "outputs": [
    {
     "name": "stdout",
     "output_type": "stream",
     "text": [
      "Requirement already satisfied: raphtory in c:\\users\\marti\\appdata\\local\\programs\\python\\python312\\lib\\site-packages (0.14.0)\n",
      "Requirement already satisfied: pyvis>=0.3.2 in c:\\users\\marti\\appdata\\local\\programs\\python\\python312\\lib\\site-packages (from raphtory) (0.3.2)\n",
      "Requirement already satisfied: networkx>=2.6.3 in c:\\users\\marti\\appdata\\local\\programs\\python\\python312\\lib\\site-packages (from raphtory) (3.4.2)\n",
      "Requirement already satisfied: pandas>=2.0.3 in c:\\users\\marti\\appdata\\local\\programs\\python\\python312\\lib\\site-packages (from raphtory) (2.2.3)\n",
      "Requirement already satisfied: pyarrow>=18 in c:\\users\\marti\\appdata\\local\\programs\\python\\python312\\lib\\site-packages (from raphtory) (19.0.0)\n",
      "Requirement already satisfied: requests>=2.31.0 in c:\\users\\marti\\appdata\\local\\programs\\python\\python312\\lib\\site-packages (from raphtory) (2.32.3)\n",
      "Requirement already satisfied: gql[all]==3.5.0 in c:\\users\\marti\\appdata\\local\\programs\\python\\python312\\lib\\site-packages (from raphtory) (3.5.0)\n",
      "Requirement already satisfied: matplotlib>=3.4.3 in c:\\users\\marti\\appdata\\local\\programs\\python\\python312\\lib\\site-packages (from raphtory) (3.9.2)\n",
      "Requirement already satisfied: ipywidgets>=8.1.5 in c:\\users\\marti\\appdata\\local\\programs\\python\\python312\\lib\\site-packages (from raphtory) (8.1.5)\n",
      "Requirement already satisfied: numpy>=2.0 in c:\\users\\marti\\appdata\\local\\programs\\python\\python312\\lib\\site-packages (from raphtory) (2.1.2)\n",
      "Requirement already satisfied: graphql-core<3.3,>=3.2 in c:\\users\\marti\\appdata\\local\\programs\\python\\python312\\lib\\site-packages (from gql[all]==3.5.0->raphtory) (3.2.6)\n",
      "Requirement already satisfied: yarl<2.0,>=1.6 in c:\\users\\marti\\appdata\\local\\programs\\python\\python312\\lib\\site-packages (from gql[all]==3.5.0->raphtory) (1.18.3)\n",
      "Requirement already satisfied: backoff<3.0,>=1.11.1 in c:\\users\\marti\\appdata\\local\\programs\\python\\python312\\lib\\site-packages (from gql[all]==3.5.0->raphtory) (2.2.1)\n",
      "Requirement already satisfied: anyio<5,>=3.0 in c:\\users\\marti\\appdata\\local\\programs\\python\\python312\\lib\\site-packages (from gql[all]==3.5.0->raphtory) (4.8.0)\n",
      "Requirement already satisfied: requests-toolbelt<2,>=1.0.0 in c:\\users\\marti\\appdata\\local\\programs\\python\\python312\\lib\\site-packages (from gql[all]==3.5.0->raphtory) (1.0.0)\n",
      "Requirement already satisfied: httpx<1,>=0.23.1 in c:\\users\\marti\\appdata\\local\\programs\\python\\python312\\lib\\site-packages (from gql[all]==3.5.0->raphtory) (0.28.1)\n",
      "Requirement already satisfied: websockets<12,>=10 in c:\\users\\marti\\appdata\\local\\programs\\python\\python312\\lib\\site-packages (from gql[all]==3.5.0->raphtory) (11.0.3)\n",
      "Requirement already satisfied: botocore<2,>=1.21 in c:\\users\\marti\\appdata\\local\\programs\\python\\python312\\lib\\site-packages (from gql[all]==3.5.0->raphtory) (1.36.21)\n",
      "Requirement already satisfied: aiohttp<4,>=3.9.0b0 in c:\\users\\marti\\appdata\\local\\programs\\python\\python312\\lib\\site-packages (from gql[all]==3.5.0->raphtory) (3.11.12)\n",
      "Requirement already satisfied: comm>=0.1.3 in c:\\users\\marti\\appdata\\roaming\\python\\python312\\site-packages (from ipywidgets>=8.1.5->raphtory) (0.2.2)\n",
      "Requirement already satisfied: ipython>=6.1.0 in c:\\users\\marti\\appdata\\roaming\\python\\python312\\site-packages (from ipywidgets>=8.1.5->raphtory) (8.29.0)\n",
      "Requirement already satisfied: traitlets>=4.3.1 in c:\\users\\marti\\appdata\\roaming\\python\\python312\\site-packages (from ipywidgets>=8.1.5->raphtory) (5.14.3)\n",
      "Requirement already satisfied: widgetsnbextension~=4.0.12 in c:\\users\\marti\\appdata\\local\\programs\\python\\python312\\lib\\site-packages (from ipywidgets>=8.1.5->raphtory) (4.0.13)\n",
      "Requirement already satisfied: jupyterlab-widgets~=3.0.12 in c:\\users\\marti\\appdata\\local\\programs\\python\\python312\\lib\\site-packages (from ipywidgets>=8.1.5->raphtory) (3.0.13)\n",
      "Requirement already satisfied: contourpy>=1.0.1 in c:\\users\\marti\\appdata\\local\\programs\\python\\python312\\lib\\site-packages (from matplotlib>=3.4.3->raphtory) (1.3.0)\n",
      "Requirement already satisfied: cycler>=0.10 in c:\\users\\marti\\appdata\\local\\programs\\python\\python312\\lib\\site-packages (from matplotlib>=3.4.3->raphtory) (0.12.1)\n",
      "Requirement already satisfied: fonttools>=4.22.0 in c:\\users\\marti\\appdata\\local\\programs\\python\\python312\\lib\\site-packages (from matplotlib>=3.4.3->raphtory) (4.54.1)\n",
      "Requirement already satisfied: kiwisolver>=1.3.1 in c:\\users\\marti\\appdata\\local\\programs\\python\\python312\\lib\\site-packages (from matplotlib>=3.4.3->raphtory) (1.4.7)\n",
      "Requirement already satisfied: packaging>=20.0 in c:\\users\\marti\\appdata\\roaming\\python\\python312\\site-packages (from matplotlib>=3.4.3->raphtory) (24.1)\n",
      "Requirement already satisfied: pillow>=8 in c:\\users\\marti\\appdata\\local\\programs\\python\\python312\\lib\\site-packages (from matplotlib>=3.4.3->raphtory) (11.0.0)\n",
      "Requirement already satisfied: pyparsing>=2.3.1 in c:\\users\\marti\\appdata\\local\\programs\\python\\python312\\lib\\site-packages (from matplotlib>=3.4.3->raphtory) (3.2.0)\n",
      "Requirement already satisfied: python-dateutil>=2.7 in c:\\users\\marti\\appdata\\roaming\\python\\python312\\site-packages (from matplotlib>=3.4.3->raphtory) (2.9.0.post0)\n",
      "Requirement already satisfied: pytz>=2020.1 in c:\\users\\marti\\appdata\\local\\programs\\python\\python312\\lib\\site-packages (from pandas>=2.0.3->raphtory) (2024.2)\n",
      "Requirement already satisfied: tzdata>=2022.7 in c:\\users\\marti\\appdata\\local\\programs\\python\\python312\\lib\\site-packages (from pandas>=2.0.3->raphtory) (2024.2)\n",
      "Requirement already satisfied: jinja2>=2.9.6 in c:\\users\\marti\\appdata\\local\\programs\\python\\python312\\lib\\site-packages (from pyvis>=0.3.2->raphtory) (3.1.5)\n",
      "Requirement already satisfied: jsonpickle>=1.4.1 in c:\\users\\marti\\appdata\\local\\programs\\python\\python312\\lib\\site-packages (from pyvis>=0.3.2->raphtory) (4.0.1)\n",
      "Requirement already satisfied: charset-normalizer<4,>=2 in c:\\users\\marti\\appdata\\local\\programs\\python\\python312\\lib\\site-packages (from requests>=2.31.0->raphtory) (3.4.0)\n",
      "Requirement already satisfied: idna<4,>=2.5 in c:\\users\\marti\\appdata\\local\\programs\\python\\python312\\lib\\site-packages (from requests>=2.31.0->raphtory) (3.10)\n",
      "Requirement already satisfied: urllib3<3,>=1.21.1 in c:\\users\\marti\\appdata\\local\\programs\\python\\python312\\lib\\site-packages (from requests>=2.31.0->raphtory) (2.2.3)\n",
      "Requirement already satisfied: certifi>=2017.4.17 in c:\\users\\marti\\appdata\\local\\programs\\python\\python312\\lib\\site-packages (from requests>=2.31.0->raphtory) (2024.8.30)\n",
      "Requirement already satisfied: aiohappyeyeballs>=2.3.0 in c:\\users\\marti\\appdata\\local\\programs\\python\\python312\\lib\\site-packages (from aiohttp<4,>=3.9.0b0->gql[all]==3.5.0->raphtory) (2.4.6)\n",
      "Requirement already satisfied: aiosignal>=1.1.2 in c:\\users\\marti\\appdata\\local\\programs\\python\\python312\\lib\\site-packages (from aiohttp<4,>=3.9.0b0->gql[all]==3.5.0->raphtory) (1.3.2)\n",
      "Requirement already satisfied: attrs>=17.3.0 in c:\\users\\marti\\appdata\\local\\programs\\python\\python312\\lib\\site-packages (from aiohttp<4,>=3.9.0b0->gql[all]==3.5.0->raphtory) (25.1.0)\n",
      "Requirement already satisfied: frozenlist>=1.1.1 in c:\\users\\marti\\appdata\\local\\programs\\python\\python312\\lib\\site-packages (from aiohttp<4,>=3.9.0b0->gql[all]==3.5.0->raphtory) (1.5.0)\n",
      "Requirement already satisfied: multidict<7.0,>=4.5 in c:\\users\\marti\\appdata\\local\\programs\\python\\python312\\lib\\site-packages (from aiohttp<4,>=3.9.0b0->gql[all]==3.5.0->raphtory) (6.1.0)\n",
      "Requirement already satisfied: propcache>=0.2.0 in c:\\users\\marti\\appdata\\local\\programs\\python\\python312\\lib\\site-packages (from aiohttp<4,>=3.9.0b0->gql[all]==3.5.0->raphtory) (0.2.1)\n",
      "Requirement already satisfied: sniffio>=1.1 in c:\\users\\marti\\appdata\\local\\programs\\python\\python312\\lib\\site-packages (from anyio<5,>=3.0->gql[all]==3.5.0->raphtory) (1.3.1)\n",
      "Requirement already satisfied: typing_extensions>=4.5 in c:\\users\\marti\\appdata\\local\\programs\\python\\python312\\lib\\site-packages (from anyio<5,>=3.0->gql[all]==3.5.0->raphtory) (4.12.2)\n",
      "Requirement already satisfied: jmespath<2.0.0,>=0.7.1 in c:\\users\\marti\\appdata\\local\\programs\\python\\python312\\lib\\site-packages (from botocore<2,>=1.21->gql[all]==3.5.0->raphtory) (1.0.1)\n",
      "Requirement already satisfied: httpcore==1.* in c:\\users\\marti\\appdata\\local\\programs\\python\\python312\\lib\\site-packages (from httpx<1,>=0.23.1->gql[all]==3.5.0->raphtory) (1.0.7)\n",
      "Requirement already satisfied: h11<0.15,>=0.13 in c:\\users\\marti\\appdata\\local\\programs\\python\\python312\\lib\\site-packages (from httpcore==1.*->httpx<1,>=0.23.1->gql[all]==3.5.0->raphtory) (0.14.0)\n",
      "Requirement already satisfied: decorator in c:\\users\\marti\\appdata\\roaming\\python\\python312\\site-packages (from ipython>=6.1.0->ipywidgets>=8.1.5->raphtory) (5.1.1)\n",
      "Requirement already satisfied: jedi>=0.16 in c:\\users\\marti\\appdata\\roaming\\python\\python312\\site-packages (from ipython>=6.1.0->ipywidgets>=8.1.5->raphtory) (0.19.1)\n",
      "Requirement already satisfied: matplotlib-inline in c:\\users\\marti\\appdata\\roaming\\python\\python312\\site-packages (from ipython>=6.1.0->ipywidgets>=8.1.5->raphtory) (0.1.7)\n",
      "Requirement already satisfied: prompt-toolkit<3.1.0,>=3.0.41 in c:\\users\\marti\\appdata\\roaming\\python\\python312\\site-packages (from ipython>=6.1.0->ipywidgets>=8.1.5->raphtory) (3.0.48)\n",
      "Requirement already satisfied: pygments>=2.4.0 in c:\\users\\marti\\appdata\\roaming\\python\\python312\\site-packages (from ipython>=6.1.0->ipywidgets>=8.1.5->raphtory) (2.18.0)\n",
      "Requirement already satisfied: stack-data in c:\\users\\marti\\appdata\\roaming\\python\\python312\\site-packages (from ipython>=6.1.0->ipywidgets>=8.1.5->raphtory) (0.6.3)\n",
      "Requirement already satisfied: colorama in c:\\users\\marti\\appdata\\roaming\\python\\python312\\site-packages (from ipython>=6.1.0->ipywidgets>=8.1.5->raphtory) (0.4.6)\n",
      "Requirement already satisfied: MarkupSafe>=2.0 in c:\\users\\marti\\appdata\\local\\programs\\python\\python312\\lib\\site-packages (from jinja2>=2.9.6->pyvis>=0.3.2->raphtory) (3.0.2)\n",
      "Requirement already satisfied: six>=1.5 in c:\\users\\marti\\appdata\\roaming\\python\\python312\\site-packages (from python-dateutil>=2.7->matplotlib>=3.4.3->raphtory) (1.16.0)\n",
      "Requirement already satisfied: parso<0.9.0,>=0.8.3 in c:\\users\\marti\\appdata\\roaming\\python\\python312\\site-packages (from jedi>=0.16->ipython>=6.1.0->ipywidgets>=8.1.5->raphtory) (0.8.4)\n",
      "Requirement already satisfied: wcwidth in c:\\users\\marti\\appdata\\roaming\\python\\python312\\site-packages (from prompt-toolkit<3.1.0,>=3.0.41->ipython>=6.1.0->ipywidgets>=8.1.5->raphtory) (0.2.13)\n",
      "Requirement already satisfied: executing>=1.2.0 in c:\\users\\marti\\appdata\\roaming\\python\\python312\\site-packages (from stack-data->ipython>=6.1.0->ipywidgets>=8.1.5->raphtory) (2.1.0)\n",
      "Requirement already satisfied: asttokens>=2.1.0 in c:\\users\\marti\\appdata\\roaming\\python\\python312\\site-packages (from stack-data->ipython>=6.1.0->ipywidgets>=8.1.5->raphtory) (2.4.1)\n",
      "Requirement already satisfied: pure-eval in c:\\users\\marti\\appdata\\roaming\\python\\python312\\site-packages (from stack-data->ipython>=6.1.0->ipywidgets>=8.1.5->raphtory) (0.2.3)\n",
      "Note: you may need to restart the kernel to use updated packages.\n"
     ]
    },
    {
     "name": "stderr",
     "output_type": "stream",
     "text": [
      "\n",
      "[notice] A new release of pip is available: 23.2.1 -> 25.1\n",
      "[notice] To update, run: python.exe -m pip install --upgrade pip\n"
     ]
    }
   ],
   "source": [
    "pip install raphtory"
   ]
  },
  {
   "cell_type": "code",
   "execution_count": 1,
   "id": "18526e19",
   "metadata": {},
   "outputs": [
    {
     "name": "stdout",
     "output_type": "stream",
     "text": [
      "Time: 1, Node: service_A, Out-degree: 1\n",
      "Time: 1, Node: service_B, Out-degree: 0\n"
     ]
    }
   ],
   "source": [
    "from raphtory import Graph\n",
    "\n",
    "g = Graph()\n",
    "g.add_node(timestamp=1, id=\"service_A\")\n",
    "g.add_node(timestamp=1, id=\"service_B\")\n",
    "g.add_edge(timestamp=2, src=\"service_A\", dst=\"service_B\", properties={\"latency\": 120})\n",
    "\n",
    "for snapshot in g.rolling(window=5):\n",
    "    for node in snapshot.nodes:\n",
    "        print(f\"Time: {snapshot.earliest_time}, Node: {node.name}, Out-degree: {node.out_degree()}\")\n"
   ]
  },
  {
   "cell_type": "code",
   "execution_count": null,
   "id": "214fee03",
   "metadata": {},
   "outputs": [],
   "source": []
  }
 ],
 "metadata": {
  "kernelspec": {
   "display_name": "Python 3",
   "language": "python",
   "name": "python3"
  },
  "language_info": {
   "codemirror_mode": {
    "name": "ipython",
    "version": 3
   },
   "file_extension": ".py",
   "mimetype": "text/x-python",
   "name": "python",
   "nbconvert_exporter": "python",
   "pygments_lexer": "ipython3",
   "version": "3.12.0"
  }
 },
 "nbformat": 4,
 "nbformat_minor": 5
}
