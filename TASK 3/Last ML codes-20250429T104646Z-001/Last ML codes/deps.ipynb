{
 "cells": [
  {
   "cell_type": "code",
   "execution_count": 1,
   "id": "2ca22e5e",
   "metadata": {},
   "outputs": [
    {
     "name": "stderr",
     "output_type": "stream",
     "text": [
      "\n",
      "[notice] A new release of pip is available: 23.2.1 -> 25.1.1\n",
      "[notice] To update, run: python.exe -m pip install --upgrade pip\n"
     ]
    },
    {
     "name": "stdout",
     "output_type": "stream",
     "text": [
      "Requirement already satisfied: graphene in c:\\users\\marti\\appdata\\local\\programs\\python\\python312\\lib\\site-packages (3.4.3)Note: you may need to restart the kernel to use updated packages.\n",
      "\n",
      "Requirement already satisfied: graphql-core<3.3,>=3.1 in c:\\users\\marti\\appdata\\local\\programs\\python\\python312\\lib\\site-packages (from graphene) (3.2.6)\n",
      "Requirement already satisfied: graphql-relay<3.3,>=3.1 in c:\\users\\marti\\appdata\\local\\programs\\python\\python312\\lib\\site-packages (from graphene) (3.2.0)\n",
      "Requirement already satisfied: python-dateutil<3,>=2.7.0 in c:\\users\\marti\\appdata\\roaming\\python\\python312\\site-packages (from graphene) (2.9.0.post0)\n",
      "Requirement already satisfied: typing-extensions<5,>=4.7.1 in c:\\users\\marti\\appdata\\local\\programs\\python\\python312\\lib\\site-packages (from graphene) (4.12.2)\n",
      "Requirement already satisfied: six>=1.5 in c:\\users\\marti\\appdata\\roaming\\python\\python312\\site-packages (from python-dateutil<3,>=2.7.0->graphene) (1.16.0)\n"
     ]
    },
    {
     "name": "stderr",
     "output_type": "stream",
     "text": [
      "C:\\Users\\marti\\AppData\\Local\\Temp\\ipykernel_33796\\3813365407.py:9: DtypeWarning: Columns (29,37,88,92,96,100,128,132,136,140,144,148,152,156,160,164,168,172,176,180,184,188,192,196,200,204,208,212,216,220,224,228,232,236,240,244,248,252,256,260,264) have mixed types. Specify dtype option on import or set low_memory=False.\n",
      "  deployment_df = pd.read_csv('final_dataset.csv')\n"
     ]
    }
   ],
   "source": [
    "%pip install graphene\n",
    "import pandas as pd\n",
    "import networkx as nx\n",
    "from datetime import datetime\n",
    "from graphene import ObjectType, Schema, String, Float, List, Field, ID\n",
    "from graphene.types.generic import GenericScalar\n",
    "\n",
    "# Load and preprocess the deployment data\n",
    "deployment_df = pd.read_csv('final_dataset.csv')\n",
    "deployment_df['timestamp'] = pd.to_datetime(deployment_df['timestamp'])\n",
    "\n",
    "# Load communication data (assuming similar format)\n",
    "# communication_df = pd.read_csv('communication_data.csv')\n",
    "\n",
    "class PodMetrics(ObjectType):\n",
    "    cpu_usage = Float()\n",
    "    memory_usage = Float()\n",
    "    network_transmit = Float()\n",
    "\n",
    "class Pod(ObjectType):\n",
    "    id = ID()\n",
    "    name = String()\n",
    "    metrics = Field(PodMetrics)\n",
    "    deployed_at = String()\n",
    "    deployment_time = String()\n",
    "    status = String()\n",
    "    microservice = String()\n",
    "    experiment = String()\n",
    "    abnormality_class = String()\n",
    "    communications = List(lambda: CommunicationEdge)\n",
    "    \n",
    "    def resolve_communications(self, info):\n",
    "        # Query communications where this pod is source or target\n",
    "        pass\n",
    "\n",
    "class CommunicationEdge(ObjectType):\n",
    "    source_pod = ID()\n",
    "    target_pod = ID()\n",
    "    timestamp = String()\n",
    "    metrics = GenericScalar()  # Can contain packets, bytes, latency etc.\n",
    "\n",
    "class Query(ObjectType):\n",
    "    pod = Field(Pod, id=ID())\n",
    "    pods_by_time = List(Pod, start=String(), end=String())\n",
    "    \n",
    "    def resolve_pod(self, info, id):\n",
    "        # Get pod data from merged graph\n",
    "        pass\n",
    "    \n",
    "    def resolve_pods_by_time(self, info, start, end):\n",
    "        # Query pods active in time range\n",
    "        pass\n",
    "\n",
    "# Create the merged graph structure\n",
    "def create_merged_graph(deployment_df, communication_df):\n",
    "    G = nx.DiGraph()\n",
    "    \n",
    "    # Add pods as nodes with deployment info\n",
    "    for column in deployment_df.columns:\n",
    "        if column.endswith('_container_cpu_usage_seconds_total'):\n",
    "            pod_name = column.split('_container_cpu_usage_seconds_total')[0]\n",
    "            G.add_node(pod_name, \n",
    "                      type='pod',\n",
    "                      cpu_usage=deployment_df[f'{pod_name}_container_cpu_usage_seconds_total'].iloc[0],\n",
    "                      memory_usage=deployment_df[f'{pod_name}_container_memory_working_set_bytes'].iloc[0],\n",
    "                      network_transmit=deployment_df[f'{pod_name}_container_network_transmit_packets_total'].iloc[0],\n",
    "                      deployed_at=deployment_df[f'{pod_name}_deployed_at'].iloc[0],\n",
    "                      deployment_time=deployment_df['timestamp'].iloc[0].isoformat(),\n",
    "                      microservice=None,  # Update if microservice info is available\n",
    "                      experiment=None,    # Update if experiment info is available\n",
    "                      abnormality_class=None)  # Update if abnormality class info is available\n",
    "    \n",
    "    # Add communication edges (example - would need actual comm data)\n",
    "    # for _, row in communication_df.iterrows():\n",
    "    #    G.add_edge(row['source'], row['target'], \n",
    "    #              timestamp=row['timestamp'],\n",
    "    #              metrics={'packets': row['packets']})\n",
    "    \n",
    "    return G\n",
    "\n",
    "# Initialize the merged graph\n",
    "merged_graph = create_merged_graph(deployment_df, None)  # Add communication_df when available\n",
    "\n",
    "schema = Schema(query=Query)"
   ]
  }
 ],
 "metadata": {
  "kernelspec": {
   "display_name": "Python 3",
   "language": "python",
   "name": "python3"
  },
  "language_info": {
   "codemirror_mode": {
    "name": "ipython",
    "version": 3
   },
   "file_extension": ".py",
   "mimetype": "text/x-python",
   "name": "python",
   "nbconvert_exporter": "python",
   "pygments_lexer": "ipython3",
   "version": "3.12.0"
  }
 },
 "nbformat": 4,
 "nbformat_minor": 5
}
