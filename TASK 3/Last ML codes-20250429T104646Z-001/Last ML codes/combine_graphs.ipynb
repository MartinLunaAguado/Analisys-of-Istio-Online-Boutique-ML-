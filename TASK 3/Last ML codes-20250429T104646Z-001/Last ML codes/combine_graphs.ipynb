{
 "cells": [
  {
   "cell_type": "code",
   "execution_count": 1,
   "id": "06c0a2d4",
   "metadata": {},
   "outputs": [
    {
     "name": "stdout",
     "output_type": "stream",
     "text": [
      "✅ combined_graph.json creado correctamente.\n"
     ]
    }
   ],
   "source": [
    "\n",
    "import json\n",
    "\n",
    "# Cargar los dos grafos\n",
    "with open(\"deployment_graph_cleaned.json\", \"r\", encoding=\"utf-8\") as f:\n",
    "    deployment_graph = json.load(f)\n",
    "\n",
    "with open(\"communication_graph_cleaned.json\", \"r\", encoding=\"utf-8\") as f:\n",
    "    communication_graph = json.load(f)\n",
    "\n",
    "# Combinar los nodos y relaciones\n",
    "combined_graph = deployment_graph + communication_graph\n",
    "\n",
    "# Guardar el grafo combinado\n",
    "with open(\"combined_graph.json\", \"w\", encoding=\"utf-8\") as f:\n",
    "    json.dump(combined_graph, f, indent=2)\n",
    "\n",
    "print(\"✅ combined_graph.json creado correctamente.\")\n"
   ]
  }
 ],
 "metadata": {
  "kernelspec": {
   "display_name": "Python 3",
   "language": "python",
   "name": "python3"
  },
  "language_info": {
   "codemirror_mode": {
    "name": "ipython",
    "version": 3
   },
   "file_extension": ".py",
   "mimetype": "text/x-python",
   "name": "python",
   "nbconvert_exporter": "python",
   "pygments_lexer": "ipython3",
   "version": "3.12.0"
  }
 },
 "nbformat": 4,
 "nbformat_minor": 5
}
