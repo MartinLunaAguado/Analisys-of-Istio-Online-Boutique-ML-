{
 "cells": [
  {
   "cell_type": "code",
   "execution_count": 4,
   "id": "7c624880",
   "metadata": {},
   "outputs": [
    {
     "name": "stdout",
     "output_type": "stream",
     "text": [
      "Consulta GraphQL:\n",
      "{'graph': {'nodes': {'list': [{'degree': 1, 'name': 'A'}, {'degree': 2, 'name': 'B'}, {'degree': 1, 'name': 'C'}]}}}\n"
     ]
    }
   ],
   "source": [
    "# 📦 Instalar si no lo tienes:\n",
    "# pip install raphtory\n",
    "\n",
    "from raphtory import Graph\n",
    "from raphtory.graphql import GraphServer\n",
    "import os\n",
    "\n",
    "# 1️⃣ Crear grafo sencillo\n",
    "g = Graph()\n",
    "g.add_node(timestamp=1, id=\"A\")\n",
    "g.add_node(timestamp=1, id=\"B\")\n",
    "g.add_node(timestamp=1, id=\"C\")\n",
    "g.add_edge(timestamp=2, src=\"A\", dst=\"B\", properties={\"weight\": 5.0})\n",
    "g.add_edge(timestamp=3, src=\"B\", dst=\"C\", properties={\"weight\": 10.0})\n",
    "\n",
    "# 2️⃣ Guardar el grafo\n",
    "output_dir = os.path.abspath(\"graphs/demo_graph\")  # Use absolute path for clarity\n",
    "if os.path.exists(output_dir):\n",
    "    # Eliminar el contenido del directorio si ya existe\n",
    "    import shutil\n",
    "    shutil.rmtree(output_dir)\n",
    "os.makedirs(output_dir, exist_ok=True)\n",
    "g.save_to_file(output_dir)\n",
    "\n",
    "# Verificar si el grafo se guardó correctamente\n",
    "if not os.path.exists(output_dir):\n",
    "    raise Exception(f\"Error: El directorio {output_dir} no se creó correctamente.\")\n",
    "\n",
    "# 3️⃣ Iniciar servidor GraphQL\n",
    "server = GraphServer(work_dir=os.path.dirname(output_dir)).start()  # Set working directory to the parent of output_dir\n",
    "client = server.get_client()\n",
    "\n",
    "# 4️⃣ Ejecutar consulta GraphQL sobre el grafo\n",
    "# Replace backslashes with forward slashes for compatibility\n",
    "# Calculate the relative path to the graph directory\n",
    "relative_output_dir = os.path.relpath(output_dir, start=os.path.dirname(output_dir))\n",
    "\n",
    "results = client.query(f\"\"\"\n",
    "{{\n",
    "  graph(path: \"{relative_output_dir}\") {{\n",
    "    nodes {{\n",
    "      list {{\n",
    "        name\n",
    "        degree\n",
    "      }}\n",
    "    }}\n",
    "  }}\n",
    "}}\n",
    "\"\"\")\n",
    "\n",
    "print(\"Consulta GraphQL:\")\n",
    "print(results)\n"
   ]
  }
 ],
 "metadata": {
  "kernelspec": {
   "display_name": "Python 3",
   "language": "python",
   "name": "python3"
  },
  "language_info": {
   "codemirror_mode": {
    "name": "ipython",
    "version": 3
   },
   "file_extension": ".py",
   "mimetype": "text/x-python",
   "name": "python",
   "nbconvert_exporter": "python",
   "pygments_lexer": "ipython3",
   "version": "3.12.0"
  }
 },
 "nbformat": 4,
 "nbformat_minor": 5
}
