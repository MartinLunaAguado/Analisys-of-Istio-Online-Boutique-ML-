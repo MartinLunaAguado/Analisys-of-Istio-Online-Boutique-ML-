{
 "cells": [
  {
   "cell_type": "markdown",
   "id": "c591ce71",
   "metadata": {},
   "source": [
    "# Import Required Libraries\n",
    "Import necessary libraries, including Raphtory's GraphServer and GraphQL client."
   ]
  },
  {
   "cell_type": "code",
   "execution_count": null,
   "id": "90964914",
   "metadata": {},
   "outputs": [],
   "source": [
    "# Import Required Libraries\n",
    "from raphtory.graphql import GraphServer"
   ]
  },
  {
   "cell_type": "markdown",
   "id": "47fe7c20",
   "metadata": {},
   "source": [
    "# Load and Inspect Graph\n",
    "Start the GraphServer, load the saved communication graph, and inspect its basic structure."
   ]
  },
  {
   "cell_type": "code",
   "execution_count": null,
   "id": "a44c44e5",
   "metadata": {},
   "outputs": [],
   "source": [
    "# Start the GraphServer and load the graph\n",
    "server = GraphServer(work_dir=\"graphs/\").start()\n",
    "client = server.get_client()\n",
    "\n",
    "# Inspect the graph structure\n",
    "results = client.query(\"\"\"\n",
    "{\n",
    "  graph(path: \"communication_graph\") {\n",
    "    nodes {\n",
    "      list {\n",
    "        name\n",
    "        degree\n",
    "      }\n",
    "    }\n",
    "  }\n",
    "}\n",
    "\"\"\")\n",
    "print(results)"
   ]
  },
  {
   "cell_type": "markdown",
   "id": "c20b9f87",
   "metadata": {},
   "source": [
    "# Query Node Properties\n",
    "Write a query to retrieve node properties such as name, degree, and any other relevant attributes."
   ]
  },
  {
   "cell_type": "code",
   "execution_count": null,
   "id": "5d291dca",
   "metadata": {},
   "outputs": [],
   "source": [
    "# Query to retrieve node properties\n",
    "node_properties_query = \"\"\"\n",
    "{\n",
    "  graph(path: \"communication_graph\") {\n",
    "    nodes {\n",
    "      list {\n",
    "        name\n",
    "        degree\n",
    "        properties {\n",
    "          key\n",
    "          value\n",
    "        }\n",
    "      }\n",
    "    }\n",
    "  }\n",
    "}\n",
    "\"\"\"\n",
    "node_properties = client.query(node_properties_query)\n",
    "print(node_properties)"
   ]
  },
  {
   "cell_type": "markdown",
   "id": "82c8a0a1",
   "metadata": {},
   "source": [
    "# Query Edge Properties\n",
    "Write a query to retrieve edge properties such as source, destination, status, and latency."
   ]
  },
  {
   "cell_type": "code",
   "execution_count": null,
   "id": "8b2f0ea3",
   "metadata": {},
   "outputs": [],
   "source": [
    "# Query to retrieve edge properties\n",
    "edge_properties_query = \"\"\"\n",
    "{\n",
    "  graph(path: \"communication_graph\") {\n",
    "    edges {\n",
    "      list {\n",
    "        source\n",
    "        destination\n",
    "        properties {\n",
    "          key\n",
    "          value\n",
    "        }\n",
    "      }\n",
    "    }\n",
    "  }\n",
    "}\n",
    "\"\"\"\n",
    "edge_properties = client.query(edge_properties_query)\n",
    "print(edge_properties)"
   ]
  },
  {
   "cell_type": "markdown",
   "id": "32c8b847",
   "metadata": {},
   "source": [
    "# Filter Nodes by Status\n",
    "Write a query to filter nodes based on their status (e.g., error rate classification)."
   ]
  },
  {
   "cell_type": "code",
   "execution_count": null,
   "id": "b20bf72b",
   "metadata": {},
   "outputs": [],
   "source": [
    "# Query to filter nodes by status\n",
    "filter_nodes_query = \"\"\"\n",
    "{\n",
    "  graph(path: \"communication_graph\") {\n",
    "    nodes {\n",
    "      list(filter: {properties: {key: \"status\", value: \"1\"}}) {\n",
    "        name\n",
    "        degree\n",
    "      }\n",
    "    }\n",
    "  }\n",
    "}\n",
    "\"\"\"\n",
    "filtered_nodes = client.query(filter_nodes_query)\n",
    "print(filtered_nodes)"
   ]
  },
  {
   "cell_type": "markdown",
   "id": "ce41a6a8",
   "metadata": {},
   "source": [
    "# Aggregate Metrics\n",
    "Write a query to calculate aggregate metrics such as average latency or total throughput across the graph."
   ]
  },
  {
   "cell_type": "code",
   "execution_count": null,
   "id": "bdd1c4c8",
   "metadata": {},
   "outputs": [],
   "source": [
    "# Query to calculate aggregate metrics\n",
    "aggregate_metrics_query = \"\"\"\n",
    "{\n",
    "  graph(path: \"communication_graph\") {\n",
    "    edges {\n",
    "      aggregate {\n",
    "        avg(properties: {key: \"p90_latency\"})\n",
    "        sum(properties: {key: \"throughput\"})\n",
    "      }\n",
    "    }\n",
    "  }\n",
    "}\n",
    "\"\"\"\n",
    "aggregate_metrics = client.query(aggregate_metrics_query)\n",
    "print(aggregate_metrics)"
   ]
  }
 ],
 "metadata": {
  "language_info": {
   "name": "python"
  }
 },
 "nbformat": 4,
 "nbformat_minor": 5
}
